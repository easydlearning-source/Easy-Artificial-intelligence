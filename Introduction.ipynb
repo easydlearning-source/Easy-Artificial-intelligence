{
  "nbformat": 4,
  "nbformat_minor": 0,
  "metadata": {
    "colab": {
      "provenance": [],
      "authorship_tag": "ABX9TyMx1HedPbL9nl79BbtF1xnd",
      "include_colab_link": true
    },
    "kernelspec": {
      "name": "python3",
      "display_name": "Python 3"
    },
    "language_info": {
      "name": "python"
    }
  },
  "cells": [
    {
      "cell_type": "markdown",
      "metadata": {
        "id": "view-in-github",
        "colab_type": "text"
      },
      "source": [
        "<a href=\"https://colab.research.google.com/github/easydlearning-source/Easy-Artificial-intelligence/blob/main/Introduction.ipynb\" target=\"_parent\"><img src=\"https://colab.research.google.com/assets/colab-badge.svg\" alt=\"Open In Colab\"/></a>"
      ]
    },
    {
      "cell_type": "code",
      "execution_count": null,
      "metadata": {
        "id": "riDTMf3wWUq1"
      },
      "outputs": [],
      "source": []
    },
    {
      "cell_type": "markdown",
      "source": [
        "**Programming with Python : Introduction**"
      ],
      "metadata": {
        "id": "5SzLHu-lWcLe"
      }
    },
    {
      "cell_type": "code",
      "source": [
        "print(\" Welcome to EASY AI Programming\")"
      ],
      "metadata": {
        "colab": {
          "base_uri": "https://localhost:8080/"
        },
        "id": "zriet8CVWpFX",
        "outputId": "5487b5fe-1a56-4ae3-a106-25d153a6f173"
      },
      "execution_count": 1,
      "outputs": [
        {
          "output_type": "stream",
          "name": "stdout",
          "text": [
            " Welcome to EASY AI Programming\n"
          ]
        }
      ]
    },
    {
      "cell_type": "markdown",
      "source": [
        "**Variables**"
      ],
      "metadata": {
        "id": "D_loXWV0W2wP"
      }
    },
    {
      "cell_type": "code",
      "source": [
        "name = \"John\"\n",
        "age = 20\n",
        "score = 95\n",
        ""
      ],
      "metadata": {
        "id": "MGpWYFNsWzXe"
      },
      "execution_count": 2,
      "outputs": []
    },
    {
      "cell_type": "code",
      "source": [
        "name"
      ],
      "metadata": {
        "colab": {
          "base_uri": "https://localhost:8080/",
          "height": 35
        },
        "id": "T6r5Oz2DXA9U",
        "outputId": "343bee5e-f5e4-4253-e1ef-fea68e651699"
      },
      "execution_count": 3,
      "outputs": [
        {
          "output_type": "execute_result",
          "data": {
            "text/plain": [
              "'John'"
            ],
            "application/vnd.google.colaboratory.intrinsic+json": {
              "type": "string"
            }
          },
          "metadata": {},
          "execution_count": 3
        }
      ]
    },
    {
      "cell_type": "code",
      "source": [
        "'John'"
      ],
      "metadata": {
        "colab": {
          "base_uri": "https://localhost:8080/",
          "height": 35
        },
        "id": "DN3_JrMgXCcc",
        "outputId": "944222b5-f3c7-43f3-a932-4ab62258b6a7"
      },
      "execution_count": 4,
      "outputs": [
        {
          "output_type": "execute_result",
          "data": {
            "text/plain": [
              "'John'"
            ],
            "application/vnd.google.colaboratory.intrinsic+json": {
              "type": "string"
            }
          },
          "metadata": {},
          "execution_count": 4
        }
      ]
    },
    {
      "cell_type": "code",
      "source": [
        "age"
      ],
      "metadata": {
        "colab": {
          "base_uri": "https://localhost:8080/"
        },
        "id": "T9AHYFw5XF9y",
        "outputId": "d8ffd8b1-62ea-4f9a-f92e-f6ceb04f32ee"
      },
      "execution_count": 5,
      "outputs": [
        {
          "output_type": "execute_result",
          "data": {
            "text/plain": [
              "20"
            ]
          },
          "metadata": {},
          "execution_count": 5
        }
      ]
    },
    {
      "cell_type": "code",
      "source": [
        "score"
      ],
      "metadata": {
        "colab": {
          "base_uri": "https://localhost:8080/"
        },
        "id": "q_WzlnHzXJXM",
        "outputId": "e33d6653-5782-467d-ba0f-5898b661f71d"
      },
      "execution_count": 6,
      "outputs": [
        {
          "output_type": "execute_result",
          "data": {
            "text/plain": [
              "95"
            ]
          },
          "metadata": {},
          "execution_count": 6
        }
      ]
    },
    {
      "cell_type": "markdown",
      "source": [
        "**Intergers**"
      ],
      "metadata": {
        "id": "3h7Su_evXO8r"
      }
    },
    {
      "cell_type": "code",
      "source": [
        "age = 11\n",
        "score = -5"
      ],
      "metadata": {
        "id": "rPUuNXEkXRUH"
      },
      "execution_count": 7,
      "outputs": []
    },
    {
      "cell_type": "markdown",
      "source": [
        "**Float**"
      ],
      "metadata": {
        "id": "RmEOPcBmYCpB"
      }
    },
    {
      "cell_type": "code",
      "source": [
        "price = 11.33333\n",
        "height = 6.5"
      ],
      "metadata": {
        "id": "OdRnDySXYEWY"
      },
      "execution_count": 8,
      "outputs": []
    },
    {
      "cell_type": "code",
      "source": [
        "price"
      ],
      "metadata": {
        "colab": {
          "base_uri": "https://localhost:8080/"
        },
        "id": "c_rqZEv9YI5o",
        "outputId": "11df85ce-fd56-446d-e181-f25fe04ac1a9"
      },
      "execution_count": 9,
      "outputs": [
        {
          "output_type": "execute_result",
          "data": {
            "text/plain": [
              "11.33333"
            ]
          },
          "metadata": {},
          "execution_count": 9
        }
      ]
    },
    {
      "cell_type": "markdown",
      "source": [
        "**Boolean**"
      ],
      "metadata": {
        "id": "g-SdWIZwYQGQ"
      }
    },
    {
      "cell_type": "code",
      "source": [
        "is_ready = True\n",
        "is_tired = False"
      ],
      "metadata": {
        "id": "m1AGNtACYRkJ"
      },
      "execution_count": 10,
      "outputs": []
    },
    {
      "cell_type": "code",
      "source": [
        "is_ready"
      ],
      "metadata": {
        "colab": {
          "base_uri": "https://localhost:8080/"
        },
        "id": "tcrmgk_VYMaC",
        "outputId": "a83e69d0-2176-43e5-ff5a-3d597ab6be8d"
      },
      "execution_count": 11,
      "outputs": [
        {
          "output_type": "execute_result",
          "data": {
            "text/plain": [
              "True"
            ]
          },
          "metadata": {},
          "execution_count": 11
        }
      ]
    },
    {
      "cell_type": "markdown",
      "source": [
        "**String**"
      ],
      "metadata": {
        "id": "Pssw0hlbYbOV"
      }
    },
    {
      "cell_type": "code",
      "source": [
        "name = \"Jane\"\n",
        "greeting = 'Hello'"
      ],
      "metadata": {
        "id": "6fnjVX36YdBB"
      },
      "execution_count": 12,
      "outputs": []
    },
    {
      "cell_type": "code",
      "source": [
        "greeting + \" \"+ name"
      ],
      "metadata": {
        "colab": {
          "base_uri": "https://localhost:8080/",
          "height": 35
        },
        "id": "XNauUmAeYXuW",
        "outputId": "892e9057-903b-43ec-cb23-2a70ab444d8e"
      },
      "execution_count": 13,
      "outputs": [
        {
          "output_type": "execute_result",
          "data": {
            "text/plain": [
              "'Hello Jane'"
            ],
            "application/vnd.google.colaboratory.intrinsic+json": {
              "type": "string"
            }
          },
          "metadata": {},
          "execution_count": 13
        }
      ]
    },
    {
      "cell_type": "markdown",
      "source": [
        "**Comments**"
      ],
      "metadata": {
        "id": "xSFbzg4YYtop"
      }
    },
    {
      "cell_type": "code",
      "source": [
        "weight_1 = 12 # This is the weight of the first item\n",
        "weight_2 = 15 # This is the weight of the second item"
      ],
      "metadata": {
        "id": "-3q4MTMeYvYj"
      },
      "execution_count": 14,
      "outputs": []
    },
    {
      "cell_type": "code",
      "source": [
        "weight_1"
      ],
      "metadata": {
        "colab": {
          "base_uri": "https://localhost:8080/"
        },
        "id": "znhwE9GrY0UN",
        "outputId": "263060cc-f934-4c47-e572-7aa24c8fa1b3"
      },
      "execution_count": 15,
      "outputs": [
        {
          "output_type": "execute_result",
          "data": {
            "text/plain": [
              "12"
            ]
          },
          "metadata": {},
          "execution_count": 15
        }
      ]
    },
    {
      "cell_type": "markdown",
      "source": [
        "**Assignment**"
      ],
      "metadata": {
        "id": "G840WZSdY7hN"
      }
    },
    {
      "cell_type": "code",
      "source": [],
      "metadata": {
        "id": "qVcyTOu-Y6iR"
      },
      "execution_count": null,
      "outputs": []
    }
  ]
}