{
  "nbformat": 4,
  "nbformat_minor": 0,
  "metadata": {
    "colab": {
      "provenance": [],
      "authorship_tag": "ABX9TyNTcS+LBca4MV2TnoRWV9AR",
      "include_colab_link": true
    },
    "kernelspec": {
      "name": "python3",
      "display_name": "Python 3"
    },
    "language_info": {
      "name": "python"
    }
  },
  "cells": [
    {
      "cell_type": "markdown",
      "metadata": {
        "id": "view-in-github",
        "colab_type": "text"
      },
      "source": [
        "<a href=\"https://colab.research.google.com/github/easydlearning-source/Easy-Artificial-intelligence/blob/main/Data_Structures.ipynb\" target=\"_parent\"><img src=\"https://colab.research.google.com/assets/colab-badge.svg\" alt=\"Open In Colab\"/></a>"
      ]
    },
    {
      "cell_type": "code",
      "execution_count": null,
      "metadata": {
        "id": "lArmD8qfZWm-"
      },
      "outputs": [],
      "source": []
    },
    {
      "cell_type": "markdown",
      "source": [
        "\n",
        "**Data Types**\n",
        "\n",
        "Python has four main built-in data structures\n",
        "\n",
        "    List\n",
        "    Tuple\n",
        "    Disctionary\n",
        "    Set\n",
        "\n"
      ],
      "metadata": {
        "id": "0c0umkvda-8f"
      }
    },
    {
      "cell_type": "markdown",
      "source": [
        "\n",
        "**1. List**\n",
        "\n",
        "    A list is an ordered collection that can hold any type of data\n",
        "\n",
        "    Uses square brackets []\n",
        "\n",
        "    It is mutable\n",
        "\n"
      ],
      "metadata": {
        "id": "ZxG8LBt-bELi"
      }
    },
    {
      "cell_type": "code",
      "source": [
        "\n",
        "\n",
        "fruits = [\"apple\", \"banana\", \"mango\"]\n",
        "\n"
      ],
      "metadata": {
        "id": "RZdsTDbebIpX"
      },
      "execution_count": 1,
      "outputs": []
    },
    {
      "cell_type": "code",
      "source": [
        "fruits[0]"
      ],
      "metadata": {
        "colab": {
          "base_uri": "https://localhost:8080/",
          "height": 35
        },
        "id": "yVNA2r0JbPSh",
        "outputId": "719535d3-f746-4566-de20-3489db10a3ae"
      },
      "execution_count": 2,
      "outputs": [
        {
          "output_type": "execute_result",
          "data": {
            "text/plain": [
              "'apple'"
            ],
            "application/vnd.google.colaboratory.intrinsic+json": {
              "type": "string"
            }
          },
          "metadata": {},
          "execution_count": 2
        }
      ]
    },
    {
      "cell_type": "code",
      "source": [
        "fruits[2]"
      ],
      "metadata": {
        "colab": {
          "base_uri": "https://localhost:8080/",
          "height": 35
        },
        "id": "rgKe3PfHbYux",
        "outputId": "0f5c2dc1-ad4b-4b03-f933-e5a726bc03e3"
      },
      "execution_count": 3,
      "outputs": [
        {
          "output_type": "execute_result",
          "data": {
            "text/plain": [
              "'mango'"
            ],
            "application/vnd.google.colaboratory.intrinsic+json": {
              "type": "string"
            }
          },
          "metadata": {},
          "execution_count": 3
        }
      ]
    },
    {
      "cell_type": "code",
      "source": [
        "type(fruits)"
      ],
      "metadata": {
        "colab": {
          "base_uri": "https://localhost:8080/"
        },
        "id": "Xvt4JT4Qbb_E",
        "outputId": "7be63367-db82-4ce3-814d-1c01c59e45a4"
      },
      "execution_count": 4,
      "outputs": [
        {
          "output_type": "execute_result",
          "data": {
            "text/plain": [
              "list"
            ]
          },
          "metadata": {},
          "execution_count": 4
        }
      ]
    },
    {
      "cell_type": "code",
      "source": [
        "list"
      ],
      "metadata": {
        "colab": {
          "base_uri": "https://localhost:8080/"
        },
        "id": "JtvnPDuobflk",
        "outputId": "67244613-cd98-4e98-8d53-ee3225405298"
      },
      "execution_count": 5,
      "outputs": [
        {
          "output_type": "execute_result",
          "data": {
            "text/plain": [
              "list"
            ]
          },
          "metadata": {},
          "execution_count": 5
        }
      ]
    },
    {
      "cell_type": "code",
      "source": [
        "fruits_list=[\"mango\",\"apple\", \"Banana\", \"Orange\",\"grape\", \"passion\", \"pineapple\"]"
      ],
      "metadata": {
        "id": "RSIYq1HgbjfL"
      },
      "execution_count": 6,
      "outputs": []
    },
    {
      "cell_type": "code",
      "source": [
        "fruits_list"
      ],
      "metadata": {
        "colab": {
          "base_uri": "https://localhost:8080/"
        },
        "id": "Lt1rxC9Obm57",
        "outputId": "232abb6b-bb4e-428a-c522-a7dfdbd16a57"
      },
      "execution_count": 7,
      "outputs": [
        {
          "output_type": "execute_result",
          "data": {
            "text/plain": [
              "['mango', 'apple', 'Banana', 'Orange', 'grape', 'passion', 'pineapple']"
            ]
          },
          "metadata": {},
          "execution_count": 7
        }
      ]
    },
    {
      "cell_type": "markdown",
      "source": [
        "**Positive and negative indices**"
      ],
      "metadata": {
        "id": "CUhXfPD6bq-v"
      }
    },
    {
      "cell_type": "code",
      "source": [
        "fruits_list[0]"
      ],
      "metadata": {
        "colab": {
          "base_uri": "https://localhost:8080/",
          "height": 35
        },
        "id": "t4C4A09Ibs2z",
        "outputId": "f08d5865-2c2d-4aa4-cd14-2307d10bcd5a"
      },
      "execution_count": 8,
      "outputs": [
        {
          "output_type": "execute_result",
          "data": {
            "text/plain": [
              "'mango'"
            ],
            "application/vnd.google.colaboratory.intrinsic+json": {
              "type": "string"
            }
          },
          "metadata": {},
          "execution_count": 8
        }
      ]
    },
    {
      "cell_type": "code",
      "source": [
        "fruits_list[1]"
      ],
      "metadata": {
        "colab": {
          "base_uri": "https://localhost:8080/",
          "height": 35
        },
        "id": "rHS_BdKqbylt",
        "outputId": "55fb4b9a-e05f-4160-eab5-9e65bfd0cdb7"
      },
      "execution_count": 9,
      "outputs": [
        {
          "output_type": "execute_result",
          "data": {
            "text/plain": [
              "'apple'"
            ],
            "application/vnd.google.colaboratory.intrinsic+json": {
              "type": "string"
            }
          },
          "metadata": {},
          "execution_count": 9
        }
      ]
    },
    {
      "cell_type": "markdown",
      "source": [
        "**Negative indices count from end**"
      ],
      "metadata": {
        "id": "DwjAuS0gb3fG"
      }
    },
    {
      "cell_type": "code",
      "source": [
        "fruits_list[-1]"
      ],
      "metadata": {
        "colab": {
          "base_uri": "https://localhost:8080/",
          "height": 35
        },
        "id": "lJop5Hz0b5C4",
        "outputId": "c86322b2-6987-44ab-d520-c63390336566"
      },
      "execution_count": 10,
      "outputs": [
        {
          "output_type": "execute_result",
          "data": {
            "text/plain": [
              "'pineapple'"
            ],
            "application/vnd.google.colaboratory.intrinsic+json": {
              "type": "string"
            }
          },
          "metadata": {},
          "execution_count": 10
        }
      ]
    },
    {
      "cell_type": "markdown",
      "source": [
        "**Slicing: return copy of a subset**"
      ],
      "metadata": {
        "id": "17XxtCO8b-f2"
      }
    },
    {
      "cell_type": "code",
      "source": [
        "fruits_list[0:2] # range"
      ],
      "metadata": {
        "colab": {
          "base_uri": "https://localhost:8080/"
        },
        "id": "AExF4Nx-cAFo",
        "outputId": "93952775-028f-430a-b7a0-144f04293f80"
      },
      "execution_count": 11,
      "outputs": [
        {
          "output_type": "execute_result",
          "data": {
            "text/plain": [
              "['mango', 'apple']"
            ]
          },
          "metadata": {},
          "execution_count": 11
        }
      ]
    },
    {
      "cell_type": "code",
      "source": [
        "\n",
        "\n",
        "fruits_list[:4] # to index 4\n",
        "\n"
      ],
      "metadata": {
        "colab": {
          "base_uri": "https://localhost:8080/"
        },
        "id": "HJMKIoP_b2xA",
        "outputId": "8b312dcb-faaa-4de5-d554-a4d809589a26"
      },
      "execution_count": 12,
      "outputs": [
        {
          "output_type": "execute_result",
          "data": {
            "text/plain": [
              "['mango', 'apple', 'Banana', 'Orange']"
            ]
          },
          "metadata": {},
          "execution_count": 12
        }
      ]
    },
    {
      "cell_type": "code",
      "source": [
        "fruits_list[4:] # from index 4"
      ],
      "metadata": {
        "colab": {
          "base_uri": "https://localhost:8080/"
        },
        "id": "yZaeOtDNcJIo",
        "outputId": "122e92c9-adbe-420f-aa87-f45746505d44"
      },
      "execution_count": 13,
      "outputs": [
        {
          "output_type": "execute_result",
          "data": {
            "text/plain": [
              "['grape', 'passion', 'pineapple']"
            ]
          },
          "metadata": {},
          "execution_count": 13
        }
      ]
    },
    {
      "cell_type": "markdown",
      "source": [
        "**Copying the Whole Sequence**"
      ],
      "metadata": {
        "id": "tpGF2tybcQBV"
      }
    },
    {
      "cell_type": "code",
      "source": [
        "fruits_list[:]# all"
      ],
      "metadata": {
        "colab": {
          "base_uri": "https://localhost:8080/"
        },
        "id": "UW4sldjWcRpz",
        "outputId": "f8d58e86-8e31-481a-a51e-89911ded1217"
      },
      "execution_count": 14,
      "outputs": [
        {
          "output_type": "execute_result",
          "data": {
            "text/plain": [
              "['mango', 'apple', 'Banana', 'Orange', 'grape', 'passion', 'pineapple']"
            ]
          },
          "metadata": {},
          "execution_count": 14
        }
      ]
    },
    {
      "cell_type": "code",
      "source": [
        "\n",
        "\n",
        "fruits_list[:-1] # all upto the last\n",
        "\n"
      ],
      "metadata": {
        "colab": {
          "base_uri": "https://localhost:8080/"
        },
        "id": "LWDfsbs_cX8H",
        "outputId": "8dbb67cf-eff2-4bed-a7eb-e00fad7bf18d"
      },
      "execution_count": 15,
      "outputs": [
        {
          "output_type": "execute_result",
          "data": {
            "text/plain": [
              "['mango', 'apple', 'Banana', 'Orange', 'grape', 'passion']"
            ]
          },
          "metadata": {},
          "execution_count": 15
        }
      ]
    },
    {
      "cell_type": "code",
      "source": [],
      "metadata": {
        "id": "d2t6CXfdca_x"
      },
      "execution_count": null,
      "outputs": []
    },
    {
      "cell_type": "markdown",
      "source": [
        "**Reversing he order**"
      ],
      "metadata": {
        "id": "vHr-ushYcdX1"
      }
    },
    {
      "cell_type": "code",
      "source": [
        "\n",
        "\n",
        "fruits_list[::-1] # Reverse\n",
        "\n"
      ],
      "metadata": {
        "colab": {
          "base_uri": "https://localhost:8080/"
        },
        "id": "9KMyiOh6cfFg",
        "outputId": "a62d34b2-04cc-4da1-f0c0-2b6282a53f5e"
      },
      "execution_count": 16,
      "outputs": [
        {
          "output_type": "execute_result",
          "data": {
            "text/plain": [
              "['pineapple', 'passion', 'grape', 'Orange', 'Banana', 'apple', 'mango']"
            ]
          },
          "metadata": {},
          "execution_count": 16
        }
      ]
    },
    {
      "cell_type": "markdown",
      "source": [
        "**Replacing an item in the list**"
      ],
      "metadata": {
        "id": "KpqSJbD1cnwh"
      }
    },
    {
      "cell_type": "code",
      "source": [
        "fruits_list[1]=\"new fruit\"  # Replace"
      ],
      "metadata": {
        "id": "8nlDNpzlcpdv"
      },
      "execution_count": 17,
      "outputs": []
    },
    {
      "cell_type": "code",
      "source": [
        "fruits_list"
      ],
      "metadata": {
        "colab": {
          "base_uri": "https://localhost:8080/"
        },
        "id": "D_qusmducvRU",
        "outputId": "1cc87ab3-9c85-4c24-bf45-9c231822dd8b"
      },
      "execution_count": 18,
      "outputs": [
        {
          "output_type": "execute_result",
          "data": {
            "text/plain": [
              "['mango', 'new fruit', 'Banana', 'Orange', 'grape', 'passion', 'pineapple']"
            ]
          },
          "metadata": {},
          "execution_count": 18
        }
      ]
    },
    {
      "cell_type": "markdown",
      "source": [
        "**in operator**"
      ],
      "metadata": {
        "id": "aGPbr3i5cyvY"
      }
    },
    {
      "cell_type": "code",
      "source": [
        "\"mango\" in fruits_list"
      ],
      "metadata": {
        "colab": {
          "base_uri": "https://localhost:8080/"
        },
        "id": "LA4YHNaWc0ii",
        "outputId": "0648430b-045e-426a-ee06-3103be16b246"
      },
      "execution_count": 19,
      "outputs": [
        {
          "output_type": "execute_result",
          "data": {
            "text/plain": [
              "True"
            ]
          },
          "metadata": {},
          "execution_count": 19
        }
      ]
    },
    {
      "cell_type": "markdown",
      "source": [
        "**Combining two lists**"
      ],
      "metadata": {
        "id": "TV5SMlzac5u5"
      }
    },
    {
      "cell_type": "code",
      "source": [
        "fruits_list2=[\"watermelom\",50, \"Guava\",25]"
      ],
      "metadata": {
        "id": "Vcun6SlOc7ow"
      },
      "execution_count": 20,
      "outputs": []
    },
    {
      "cell_type": "code",
      "source": [
        "combined_list = fruits_list+fruits_list2"
      ],
      "metadata": {
        "id": "6lA41Z9udA7H"
      },
      "execution_count": 21,
      "outputs": []
    },
    {
      "cell_type": "code",
      "source": [
        "combined_list"
      ],
      "metadata": {
        "colab": {
          "base_uri": "https://localhost:8080/"
        },
        "id": "-uCo5uS4dEOt",
        "outputId": "68680d04-5083-46c9-c1fa-e08614a6a763"
      },
      "execution_count": 22,
      "outputs": [
        {
          "output_type": "execute_result",
          "data": {
            "text/plain": [
              "['mango',\n",
              " 'new fruit',\n",
              " 'Banana',\n",
              " 'Orange',\n",
              " 'grape',\n",
              " 'passion',\n",
              " 'pineapple',\n",
              " 'watermelom',\n",
              " 50,\n",
              " 'Guava',\n",
              " 25]"
            ]
          },
          "metadata": {},
          "execution_count": 22
        }
      ]
    },
    {
      "cell_type": "markdown",
      "source": [
        "**Multiplying a list**"
      ],
      "metadata": {
        "id": "PQ9aYSc-dHbm"
      }
    },
    {
      "cell_type": "code",
      "source": [
        "fruits_list*3"
      ],
      "metadata": {
        "colab": {
          "base_uri": "https://localhost:8080/"
        },
        "id": "7tClQj1pdJDv",
        "outputId": "28824ab6-de36-4da6-cb73-a64063b5ad99"
      },
      "execution_count": 23,
      "outputs": [
        {
          "output_type": "execute_result",
          "data": {
            "text/plain": [
              "['mango',\n",
              " 'new fruit',\n",
              " 'Banana',\n",
              " 'Orange',\n",
              " 'grape',\n",
              " 'passion',\n",
              " 'pineapple',\n",
              " 'mango',\n",
              " 'new fruit',\n",
              " 'Banana',\n",
              " 'Orange',\n",
              " 'grape',\n",
              " 'passion',\n",
              " 'pineapple',\n",
              " 'mango',\n",
              " 'new fruit',\n",
              " 'Banana',\n",
              " 'Orange',\n",
              " 'grape',\n",
              " 'passion',\n",
              " 'pineapple']"
            ]
          },
          "metadata": {},
          "execution_count": 23
        }
      ]
    },
    {
      "cell_type": "markdown",
      "source": [
        "\n",
        "2. Tuple\n",
        "\n",
        "    A simple immutable ordered sequence of items\n",
        "\n",
        "    Items can be of mixed types, including collection types\n",
        "\n",
        "    Uses parentheses ()\n",
        "\n",
        "    Items are accessed using their position in the tuple\n",
        "\n",
        "    It is ordered **bold text**\n",
        "\n"
      ],
      "metadata": {
        "id": "maeFkvqZdOzj"
      }
    },
    {
      "cell_type": "code",
      "source": [
        "tu = (23, 'abc', 4.56, (2,3), 'def')"
      ],
      "metadata": {
        "id": "LVOUpl58dRIT"
      },
      "execution_count": 24,
      "outputs": []
    },
    {
      "cell_type": "code",
      "source": [
        "tu[0]"
      ],
      "metadata": {
        "colab": {
          "base_uri": "https://localhost:8080/"
        },
        "id": "xjxOUgL3dXOb",
        "outputId": "e4b7c07f-5ea7-45ee-9a85-2176990d8b6c"
      },
      "execution_count": 25,
      "outputs": [
        {
          "output_type": "execute_result",
          "data": {
            "text/plain": [
              "23"
            ]
          },
          "metadata": {},
          "execution_count": 25
        }
      ]
    },
    {
      "cell_type": "code",
      "source": [
        "\n",
        "\n",
        "tu[-1]\n",
        "\n"
      ],
      "metadata": {
        "colab": {
          "base_uri": "https://localhost:8080/",
          "height": 35
        },
        "id": "czgevyCzdaIB",
        "outputId": "f7fe44c2-d5be-471c-c056-791289552a6c"
      },
      "execution_count": 26,
      "outputs": [
        {
          "output_type": "execute_result",
          "data": {
            "text/plain": [
              "'def'"
            ],
            "application/vnd.google.colaboratory.intrinsic+json": {
              "type": "string"
            }
          },
          "metadata": {},
          "execution_count": 26
        }
      ]
    },
    {
      "cell_type": "code",
      "source": [
        "type(tu)"
      ],
      "metadata": {
        "colab": {
          "base_uri": "https://localhost:8080/"
        },
        "id": "11aRPS9qddEL",
        "outputId": "d21b85af-cf92-42a1-a0bc-9c86ac890429"
      },
      "execution_count": 27,
      "outputs": [
        {
          "output_type": "execute_result",
          "data": {
            "text/plain": [
              "tuple"
            ]
          },
          "metadata": {},
          "execution_count": 27
        }
      ]
    },
    {
      "cell_type": "markdown",
      "source": [
        "**Slicing**"
      ],
      "metadata": {
        "id": "67EHstf5dlLW"
      }
    },
    {
      "cell_type": "code",
      "source": [
        "tu[1:4]"
      ],
      "metadata": {
        "colab": {
          "base_uri": "https://localhost:8080/"
        },
        "id": "zDtdZeoDdmq5",
        "outputId": "b4605845-25b5-43f3-d68b-b2bfbb999420"
      },
      "execution_count": 28,
      "outputs": [
        {
          "output_type": "execute_result",
          "data": {
            "text/plain": [
              "('abc', 4.56, (2, 3))"
            ]
          },
          "metadata": {},
          "execution_count": 28
        }
      ]
    },
    {
      "cell_type": "code",
      "source": [
        "tu[1:]"
      ],
      "metadata": {
        "colab": {
          "base_uri": "https://localhost:8080/"
        },
        "id": "u1crCtb1driG",
        "outputId": "02ba2f82-c01e-486d-8cda-6c3ee0c1a19f"
      },
      "execution_count": 29,
      "outputs": [
        {
          "output_type": "execute_result",
          "data": {
            "text/plain": [
              "('abc', 4.56, (2, 3), 'def')"
            ]
          },
          "metadata": {},
          "execution_count": 29
        }
      ]
    },
    {
      "cell_type": "code",
      "source": [
        "tu[::-1]"
      ],
      "metadata": {
        "colab": {
          "base_uri": "https://localhost:8080/"
        },
        "id": "iYYWm1NSdulf",
        "outputId": "8abce1f3-6275-4a84-9dd2-184287a9f4fa"
      },
      "execution_count": 30,
      "outputs": [
        {
          "output_type": "execute_result",
          "data": {
            "text/plain": [
              "('def', (2, 3), 4.56, 'abc', 23)"
            ]
          },
          "metadata": {},
          "execution_count": 30
        }
      ]
    },
    {
      "cell_type": "markdown",
      "source": [
        "\n",
        "3. Dictionaries\n",
        "\n",
        "    Data structures which are used to store values which are accessed by their keys.\n",
        "\n",
        "    Uses curly braces {}\n",
        "\n",
        "    Dictionaries store a mapping between a set of keys and a set of values\n",
        "\n"
      ],
      "metadata": {
        "id": "7ZQEx858dx_w"
      }
    },
    {
      "cell_type": "code",
      "source": [
        "dict1 = {'Ten': 10, 'Twenty': 20, 'Thirty': 30}"
      ],
      "metadata": {
        "id": "ZNJV3o9NdzF5"
      },
      "execution_count": 31,
      "outputs": []
    },
    {
      "cell_type": "code",
      "source": [
        "dict1"
      ],
      "metadata": {
        "colab": {
          "base_uri": "https://localhost:8080/"
        },
        "id": "Ze6CbhTzd4SI",
        "outputId": "e8f79fec-079c-470d-bada-3eb64099e830"
      },
      "execution_count": 32,
      "outputs": [
        {
          "output_type": "execute_result",
          "data": {
            "text/plain": [
              "{'Ten': 10, 'Twenty': 20, 'Thirty': 30}"
            ]
          },
          "metadata": {},
          "execution_count": 32
        }
      ]
    },
    {
      "cell_type": "code",
      "source": [
        "type(dict1)"
      ],
      "metadata": {
        "colab": {
          "base_uri": "https://localhost:8080/"
        },
        "id": "u9mz7n0_d7Zo",
        "outputId": "3c420fed-332d-4a46-d73c-6a4b4be11dba"
      },
      "execution_count": 33,
      "outputs": [
        {
          "output_type": "execute_result",
          "data": {
            "text/plain": [
              "dict"
            ]
          },
          "metadata": {},
          "execution_count": 33
        }
      ]
    },
    {
      "cell_type": "code",
      "source": [
        "dict1['Ten']"
      ],
      "metadata": {
        "colab": {
          "base_uri": "https://localhost:8080/"
        },
        "id": "Aq5a7pN3d-c8",
        "outputId": "afcfe2bc-a598-488e-8a8c-6013db9716b4"
      },
      "execution_count": 34,
      "outputs": [
        {
          "output_type": "execute_result",
          "data": {
            "text/plain": [
              "10"
            ]
          },
          "metadata": {},
          "execution_count": 34
        }
      ]
    },
    {
      "cell_type": "markdown",
      "source": [
        "**Modifying a key**"
      ],
      "metadata": {
        "id": "z7h92DwSeBRm"
      }
    },
    {
      "cell_type": "code",
      "source": [
        "dict2 =  {'user':'user1', 'pswd':1234}"
      ],
      "metadata": {
        "id": "TPc0v63FeC5E"
      },
      "execution_count": 35,
      "outputs": []
    },
    {
      "cell_type": "code",
      "source": [
        "dict2['user'] = 'John'"
      ],
      "metadata": {
        "id": "DmXqaNthehKj"
      },
      "execution_count": 36,
      "outputs": []
    },
    {
      "cell_type": "code",
      "source": [
        "dict2"
      ],
      "metadata": {
        "colab": {
          "base_uri": "https://localhost:8080/"
        },
        "id": "NTDo2zewekUd",
        "outputId": "a28d0771-e7ac-441e-e6b9-dc647c693500"
      },
      "execution_count": 37,
      "outputs": [
        {
          "output_type": "execute_result",
          "data": {
            "text/plain": [
              "{'user': 'John', 'pswd': 1234}"
            ]
          },
          "metadata": {},
          "execution_count": 37
        }
      ]
    },
    {
      "cell_type": "code",
      "source": [],
      "metadata": {
        "id": "ZaaFhZqEenY8"
      },
      "execution_count": null,
      "outputs": []
    },
    {
      "cell_type": "markdown",
      "source": [
        "Adding Elements to a Dictionary"
      ],
      "metadata": {
        "id": "UHEL5abOeo-F"
      }
    },
    {
      "cell_type": "code",
      "source": [
        "dict2['email'] = 'user@Ml.com'"
      ],
      "metadata": {
        "id": "EJkFZ4IieqUC"
      },
      "execution_count": 38,
      "outputs": []
    },
    {
      "cell_type": "code",
      "source": [
        "dict2"
      ],
      "metadata": {
        "colab": {
          "base_uri": "https://localhost:8080/"
        },
        "id": "2dv50xULevbn",
        "outputId": "b3861541-ce4e-4c98-f616-7a60afc04c99"
      },
      "execution_count": 39,
      "outputs": [
        {
          "output_type": "execute_result",
          "data": {
            "text/plain": [
              "{'user': 'John', 'pswd': 1234, 'email': 'user@Ml.com'}"
            ]
          },
          "metadata": {},
          "execution_count": 39
        }
      ]
    },
    {
      "cell_type": "code",
      "source": [],
      "metadata": {
        "id": "LqFY-XgSeyfq"
      },
      "execution_count": null,
      "outputs": []
    },
    {
      "cell_type": "markdown",
      "source": [
        "**Deleting Elements from a Dictinary**"
      ],
      "metadata": {
        "id": "awKLpHaPe0DS"
      }
    },
    {
      "cell_type": "code",
      "source": [
        "dict2.pop('email')"
      ],
      "metadata": {
        "colab": {
          "base_uri": "https://localhost:8080/",
          "height": 35
        },
        "id": "EYjRAyg3e1xg",
        "outputId": "d5f822c0-2ac4-43d0-ba4b-e59458bfeccf"
      },
      "execution_count": 40,
      "outputs": [
        {
          "output_type": "execute_result",
          "data": {
            "text/plain": [
              "'user@Ml.com'"
            ],
            "application/vnd.google.colaboratory.intrinsic+json": {
              "type": "string"
            }
          },
          "metadata": {},
          "execution_count": 40
        }
      ]
    },
    {
      "cell_type": "code",
      "source": [
        "\n",
        "\n",
        "dict2\n",
        "\n"
      ],
      "metadata": {
        "colab": {
          "base_uri": "https://localhost:8080/"
        },
        "id": "2aTPT9r2e7Pq",
        "outputId": "fee258f9-7796-4b3e-ae78-088db19c2658"
      },
      "execution_count": 41,
      "outputs": [
        {
          "output_type": "execute_result",
          "data": {
            "text/plain": [
              "{'user': 'John', 'pswd': 1234}"
            ]
          },
          "metadata": {},
          "execution_count": 41
        }
      ]
    },
    {
      "cell_type": "markdown",
      "source": [
        "\n",
        "Other functons\n",
        "\n",
        "    dict.clear() - Removes all the elements from dictionary dict\n",
        "\n",
        "    dict.copy() - Returns a copy of dictionary dict\n",
        "\n",
        "    dict.items() - Returns a list containing a tuple for each key-value pair in dictionary dict\n",
        "\n",
        "    dict.get(k) - Returns the value of the specified key k from dictionary dict\n",
        "\n",
        "    dict.keys() - Returns a list containing all the keys of dictionary dict\n",
        "\n",
        "    dic.pop(k) - Removes the element with the specified key k from dictionary dict\n",
        "\n",
        "    dic.values() - Returns a list of all the values in dictionary dict\n",
        "\n"
      ],
      "metadata": {
        "id": "LHzJXQUXe--Y"
      }
    },
    {
      "cell_type": "code",
      "source": [],
      "metadata": {
        "id": "ooUB8znefACD"
      },
      "execution_count": null,
      "outputs": []
    },
    {
      "cell_type": "markdown",
      "source": [
        "\n",
        "TASK\n",
        "Create a list called Students with names and marks for 5 students **bold text**\n",
        "\n",
        "    Extract the name and marks of the first 3 students\n",
        "    Extract the name and marks of the last 2 students\n",
        "    Extract the name of all the students and marks\n",
        "    Extract the last item in the list\n",
        "    Create a new list called list_2 with names and marks of 2 students\n",
        "    Join the two lists and call it all_students\n",
        "    Replace the marks for the fist student with 999 and the last students with 122\n",
        "    Check using the keyword in if a certain name is in the list\n",
        "    Duplicate the new list\n",
        "    Change the list to a Tuple instead\n",
        "\n"
      ],
      "metadata": {
        "id": "C4BRYYJ_fFp0"
      }
    }
  ]
}